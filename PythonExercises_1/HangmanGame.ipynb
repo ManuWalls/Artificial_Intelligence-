import random

stages = ['''
  +---+
  |   |
  O   |
 /|\  |
 / \  |
      |
=========
''', '''
  +---+
  |   |
  O   |
 /|\  |
 /    |
      |
=========
''', '''
  +---+
  |   |
  O   |
 /|\  |
      |
      |
=========
''', '''
  +---+
  |   |
  O   |
 /|   |
      |
      |
=========''', '''
  +---+
  |   |
  O   |
  |   |
      |
      |
=========
''', '''
  +---+
  |   |
  O   |
      |
      |
      |
=========
''', '''
  +---+
  |   |
      |
      |
      |
      |
=========
''']

# List of words for the game
word_list = ["abruptly", "buffalo", "cycle", "dizzying", "exodus", "flyby", "gossip", "injury"]

# Select a random word from the list
chosen_word = random.choice(word_list)
word_length = len(chosen_word)

end_of_game = False
lives = 6

#Create blanks
display = []
for _ in range(word_length):
  display += "_"

while not end_of_game:
  guess = input("Guess a letter: ").lower()

  if guess in display:
    print(f"You have alerady guessed {guess}")

  #Cheking guessed letter
  for position in range(word_length):
    letter = chosen_word[position]

    if letter == guess:
      display[position] = letter

  #Check if user is wrong
  if guess not in chosen_word:
    if guess not in display:
      print(f"{guess} is not in the word, you lose a life!")
    lives -= 1
    if lives == 0:
      end_of_game = True
      print("You lose!")

  #Joining all the elements in the list and turn it into a string.
  print(f"{' '.join(display)}")

  #Checking if user has got all letters.
  if "_" not in display:
    end_of_game = True
    print("You win!")


  #Stages
  print(stages[lives])
