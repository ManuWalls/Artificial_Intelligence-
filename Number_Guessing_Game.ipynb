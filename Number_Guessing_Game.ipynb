{
  "nbformat": 4,
  "nbformat_minor": 0,
  "metadata": {
    "colab": {
      "provenance": [],
      "authorship_tag": "ABX9TyNsepoRhaN4cA1h7o5D4/ur",
      "include_colab_link": true
    },
    "kernelspec": {
      "name": "python3",
      "display_name": "Python 3"
    },
    "language_info": {
      "name": "python"
    }
  },
  "cells": [
    {
      "cell_type": "markdown",
      "metadata": {
        "id": "view-in-github",
        "colab_type": "text"
      },
      "source": [
        "<a href=\"https://colab.research.google.com/github/ManuWalls/Artificial_Intelligence-/blob/main/Number_Guessing_Game.ipynb\" target=\"_parent\"><img src=\"https://colab.research.google.com/assets/colab-badge.svg\" alt=\"Open In Colab\"/></a>"
      ]
    },
    {
      "cell_type": "markdown",
      "source": [
        "Manuel Paredes Sánchez #1953821\n",
        "\n",
        "**Number Guessing Game:** Create a program that generates a random number between 1 and 100, and then asks the user to guess the number. The program should provide hints to the user if the guessed number is greater or less than the target number, and keep asking for a new guess until the user guesses correctly.\n"
      ],
      "metadata": {
        "id": "3yyW5RKo9jCU"
      }
    },
    {
      "cell_type": "code",
      "execution_count": 1,
      "metadata": {
        "colab": {
          "base_uri": "https://localhost:8080/"
        },
        "id": "SamrxxYDHUwD",
        "outputId": "76a50be1-8b89-4f72-ab04-fabfca60c33d"
      },
      "outputs": [
        {
          "output_type": "stream",
          "name": "stdout",
          "text": [
            "Guess the number: 50\n",
            "Ups, the number is smaller\n",
            "Guess the number: 25\n",
            "Ups, the number is greater\n",
            "Guess the number: 35\n",
            "Ups, the number is greater\n",
            "Guess the number: 40\n",
            "Ups, the number is smaller\n",
            "Guess the number: 39\n",
            "Ups, the number is smaller\n",
            "Guess the number: 38\n",
            "Ups, the number is smaller\n",
            "Guess the number: 37\n",
            "Ups, the number is smaller\n",
            "Guess the number: 36\n",
            "You win!\n"
          ]
        }
      ],
      "source": [
        "import random\n",
        "\n",
        "random_num = random.randint(1, 100) # Generating a random number between 1 and 100.\n",
        "\n",
        "while True:\n",
        "  guessed_num = int(input(\"Guess the number: \")) # The program asks the user to enter a number.\n",
        "\n",
        "  if guessed_num == '0':           # This part of the code allows the user to quit the game\n",
        "    print(\"You quit the game.\")    # if she/he wants to.\n",
        "    break\n",
        "\n",
        "  guessed_num = int(guessed_num)\n",
        "\n",
        "  # Checking if the user's guess is equal to the randomly generated target number.\n",
        "  if guessed_num == random_num:\n",
        "    print(\"You win!\")\n",
        "    break\n",
        "  elif guessed_num > random_num:\n",
        "    print(\"Ups, the number is smaller\")\n",
        "  else:\n",
        "    print(\"Ups, the number is greater\")\n"
      ]
    }
  ]
}